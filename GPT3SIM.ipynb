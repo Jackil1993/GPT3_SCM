{
  "nbformat": 4,
  "nbformat_minor": 0,
  "metadata": {
    "colab": {
      "name": "GPT3SIM.ipynb",
      "provenance": [],
      "collapsed_sections": [],
      "authorship_tag": "ABX9TyOQ6wzl0xKodrk4hdFNEMOi",
      "include_colab_link": true
    },
    "kernelspec": {
      "name": "python3",
      "display_name": "Python 3"
    },
    "language_info": {
      "name": "python"
    }
  },
  "cells": [
    {
      "cell_type": "markdown",
      "metadata": {
        "id": "view-in-github",
        "colab_type": "text"
      },
      "source": [
        "<a href=\"https://colab.research.google.com/github/Jackil1993/GPT3_SCM/blob/main/GPT3SIM.ipynb\" target=\"_parent\"><img src=\"https://colab.research.google.com/assets/colab-badge.svg\" alt=\"Open In Colab\"/></a>"
      ]
    },
    {
      "cell_type": "code",
      "metadata": {
        "id": "2KKInRNVmH-2"
      },
      "source": [
        "!pip install openai"
      ],
      "execution_count": null,
      "outputs": []
    },
    {
      "cell_type": "code",
      "metadata": {
        "id": "fq07Snnyal6x"
      },
      "source": [
        "import pandas as pd\n",
        "import numpy as np\n",
        "from google.colab import drive\n",
        "import openai\n",
        "import os"
      ],
      "execution_count": 1,
      "outputs": []
    },
    {
      "cell_type": "code",
      "metadata": {
        "colab": {
          "base_uri": "https://localhost:8080/"
        },
        "id": "9_KNyYY7bG_R",
        "outputId": "78c56b3c-0a09-4e99-8b8b-dfc7d7bf4128"
      },
      "source": [
        "drive.mount('/content/gdrive')"
      ],
      "execution_count": 2,
      "outputs": [
        {
          "output_type": "stream",
          "name": "stdout",
          "text": [
            "Mounted at /content/gdrive\n"
          ]
        }
      ]
    },
    {
      "cell_type": "code",
      "metadata": {
        "id": "9VW3Mh1-atSR"
      },
      "source": [
        "key_path = '/content/gdrive/My Drive/Data/GPT3_experiments/key.txt'"
      ],
      "execution_count": 19,
      "outputs": []
    },
    {
      "cell_type": "code",
      "metadata": {
        "id": "7aIQu03JpSQG"
      },
      "source": [
        "key = list(pd.read_csv(key_path).columns)[0]"
      ],
      "execution_count": 41,
      "outputs": []
    },
    {
      "cell_type": "code",
      "metadata": {
        "id": "31h5QvLWbXXi"
      },
      "source": [
        "openai.api_key = key"
      ],
      "execution_count": 43,
      "outputs": []
    },
    {
      "cell_type": "code",
      "metadata": {
        "id": "BU-Ek8yZj_01"
      },
      "source": [
        "with open('/content/gdrive/My Drive/Data/GPT3_experiments/singleserver.py', 'r') as file:\n",
        "    code = file.read()\n",
        "print(code)"
      ],
      "execution_count": null,
      "outputs": []
    },
    {
      "cell_type": "code",
      "metadata": {
        "id": "Zl8q-B9Mnjn6"
      },
      "source": [
        "def format_sentence(sentence) :\n",
        "    sentenceSplit = filter(None, sentence.split(\".\"))\n",
        "    for s in sentenceSplit :\n",
        "        print(s.strip() + \".\")"
      ],
      "execution_count": 45,
      "outputs": []
    },
    {
      "cell_type": "code",
      "metadata": {
        "id": "2g3Vdf0Ik-t2"
      },
      "source": [
        "pre = '# Python 3 \\n'\n",
        "end = '\\n\\n# Explanation of what the code does\\n\\n#'\n",
        "prom = pre + code + end"
      ],
      "execution_count": 46,
      "outputs": []
    },
    {
      "cell_type": "code",
      "metadata": {
        "id": "2q7NAfDyj3Jv"
      },
      "source": [
        "response = openai.Completion.create(\n",
        "  engine=\"davinci-codex\",\n",
        "  prompt=prom,\n",
        "  temperature=0,\n",
        "  max_tokens=64,\n",
        "  top_p=1.0,\n",
        "  frequency_penalty=0.0,\n",
        "  presence_penalty=0.0,\n",
        "  stop=[\"#\"]\n",
        ")"
      ],
      "execution_count": 56,
      "outputs": []
    },
    {
      "cell_type": "code",
      "metadata": {
        "id": "nwbsvF4MmUkA"
      },
      "source": [
        "description = response[\"choices\"][0][\"text\"]"
      ],
      "execution_count": 57,
      "outputs": []
    },
    {
      "cell_type": "code",
      "metadata": {
        "colab": {
          "base_uri": "https://localhost:8080/"
        },
        "id": "brOgJ4Izmq8q",
        "outputId": "e6f3d971-d85a-45a3-f940-a38f08eda649"
      },
      "source": [
        "print('Short explanation ({} symbols):\\n'.format(len(description)))\n",
        "format_sentence(description)"
      ],
      "execution_count": 58,
      "outputs": [
        {
          "output_type": "stream",
          "name": "stdout",
          "text": [
            "Short explanation (333 symbols):\n",
            "\n",
            "The code above is a simulation of a queue with a single server.\n",
            "The code is broken into several functions.\n",
            "The first function is the interarrival function.\n",
            "This function returns a random number from an exponential distribution with a mean of 2.\n",
            "The second function is the service function.\n",
            "This function returns a random number from.\n"
          ]
        }
      ]
    },
    {
      "cell_type": "code",
      "metadata": {
        "id": "qMgGDrQgn7eu"
      },
      "source": [
        "longer_response = openai.Completion.create(\n",
        "  engine=\"davinci-codex\",\n",
        "  prompt=prom,\n",
        "  temperature=0,\n",
        "  max_tokens=150,\n",
        "  top_p=1.0,\n",
        "  frequency_penalty=0.0,\n",
        "  presence_penalty=0.0,\n",
        "  stop=[\"#\"]\n",
        ")"
      ],
      "execution_count": 59,
      "outputs": []
    },
    {
      "cell_type": "code",
      "metadata": {
        "id": "TWTuQC0lpfVt"
      },
      "source": [
        "longer_description = longer_response[\"choices\"][0][\"text\"]"
      ],
      "execution_count": 60,
      "outputs": []
    },
    {
      "cell_type": "code",
      "metadata": {
        "colab": {
          "base_uri": "https://localhost:8080/"
        },
        "id": "M9zw5npTpnUg",
        "outputId": "989dd1e0-81cf-4399-c81f-465a7d6ac7d2"
      },
      "source": [
        "print('Longer explanation ({} symbols):\\n'.format(len(longer_description)))\n",
        "format_sentence(longer_description)"
      ],
      "execution_count": 61,
      "outputs": [
        {
          "output_type": "stream",
          "name": "stdout",
          "text": [
            "Longer explanation (744 symbols):\n",
            "\n",
            "The code above is a simulation of a queue with a single server.\n",
            "The code is broken into several functions.\n",
            "The first function is the interarrival function.\n",
            "This function returns a random number from an exponential distribution with a mean of 2.\n",
            "The second function is the service function.\n",
            "This function returns a random number from a normal distribution with a mean of 2 and a standard deviation of 1.\n",
            "The third function is the advance time function.\n",
            "This function is the main function of the simulation.\n",
            "It first checks if the interarrival time is less than the service time.\n",
            "If it is, it calls the arrival function.\n",
            "If it is not, it calls the departure function.\n",
            "The arrival function adds a new customer to the queue and sets the next inter.\n"
          ]
        }
      ]
    },
    {
      "cell_type": "code",
      "metadata": {
        "id": "9p2w-hlKptlr"
      },
      "source": [
        "longest_response = openai.Completion.create(\n",
        "  engine=\"davinci-codex\",\n",
        "  prompt=prom,\n",
        "  temperature=0,\n",
        "  max_tokens=250,\n",
        "  top_p=1.0,\n",
        "  frequency_penalty=0.0,\n",
        "  presence_penalty=0.0,\n",
        "  stop=[\"#\"]\n",
        ")"
      ],
      "execution_count": 62,
      "outputs": []
    },
    {
      "cell_type": "code",
      "metadata": {
        "id": "6RJ0SJPdqYYr"
      },
      "source": [
        "longest_description = longest_response[\"choices\"][0][\"text\"]"
      ],
      "execution_count": 63,
      "outputs": []
    },
    {
      "cell_type": "code",
      "metadata": {
        "colab": {
          "base_uri": "https://localhost:8080/"
        },
        "id": "H4sRLGTEqfjI",
        "outputId": "eaafa8a0-83e7-4307-aed3-8bc8140231b4"
      },
      "source": [
        "print('Full explanation ({} symbols):\\n'.format(len(longest_description)))\n",
        "format_sentence(longest_description)"
      ],
      "execution_count": 64,
      "outputs": [
        {
          "output_type": "stream",
          "name": "stdout",
          "text": [
            "Full explanation (1107 symbols):\n",
            "\n",
            "The code above is a simulation of a queue with a single server.\n",
            "The code is broken into several functions.\n",
            "The first function is the interarrival function.\n",
            "This function returns a random number from an exponential distribution with a mean of 2.\n",
            "The second function is the service function.\n",
            "This function returns a random number from a normal distribution with a mean of 2 and a standard deviation of 1.\n",
            "The third function is the advance time function.\n",
            "This function advances the time by one unit.\n",
            "If the interarrival time is less than the service time, then the arrival function is called.\n",
            "If the interarrival time is greater than the service time, then the departure function is called.\n",
            "The arrival function adds a new customer to the queue and sets the next interarrival time.\n",
            "The departure function removes a customer from the queue and sets the next service time.\n",
            "The advance time function advances the time by one unit and calls either the arrival or departure function depending on which event occurs next.\n",
            "The simulation function runs the advance time function until the time reaches the end time.\n",
            ".\n"
          ]
        }
      ]
    },
    {
      "cell_type": "code",
      "metadata": {
        "id": "LtInwPxHr5vg"
      },
      "source": [
        "command = \"\\n\\\"\\\"\\\"\\nThe time complexity of this function is\"\n",
        "prom2 = code + command\n",
        "print(prom2)"
      ],
      "execution_count": null,
      "outputs": []
    },
    {
      "cell_type": "code",
      "metadata": {
        "id": "H-sBo1C1qij3"
      },
      "source": [
        "complexity = openai.Completion.create(\n",
        "  engine=\"davinci\",\n",
        "  prompt=prom2,\n",
        "  temperature=0,\n",
        "  max_tokens=64,\n",
        "  top_p=1.0,\n",
        "  frequency_penalty=0.0,\n",
        "  presence_penalty=0.0,\n",
        "  stop=[\"\\n\"]\n",
        ")"
      ],
      "execution_count": null,
      "outputs": []
    },
    {
      "cell_type": "code",
      "metadata": {
        "id": "_BQT6ytQsYzj"
      },
      "source": [
        "estimated_complexity = complexity[\"choices\"][0][\"text\"]"
      ],
      "execution_count": null,
      "outputs": []
    },
    {
      "cell_type": "code",
      "metadata": {
        "colab": {
          "base_uri": "https://localhost:8080/"
        },
        "id": "sGK7oyudsl28",
        "outputId": "901f8096-77b9-4c37-da52-cd49a677ae6e"
      },
      "source": [
        "print('Complexity estimation:\\n')\n",
        "format_sentence(estimated_complexity)"
      ],
      "execution_count": null,
      "outputs": [
        {
          "output_type": "stream",
          "name": "stdout",
          "text": [
            "Complexity estimation:\n",
            "\n",
            "O(n) where n is the number of customers in the system.\n"
          ]
        }
      ]
    }
  ]
}